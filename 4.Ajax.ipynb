{
 "cells": [
  {
   "cell_type": "markdown",
   "id": "based-scroll",
   "metadata": {},
   "source": [
    "# 3.Ajax数据爬取\n"
   ]
  },
  {
   "cell_type": "markdown",
   "id": "loose-reflection",
   "metadata": {},
   "source": [
    "发送Ajax请求到网页更新的过程可以分为3步："
   ]
  },
  {
   "cell_type": "code",
   "execution_count": 61,
   "id": "relative-torture",
   "metadata": {
    "ExecuteTime": {
     "end_time": "2021-12-09T12:33:42.684695Z",
     "start_time": "2021-12-09T12:33:40.864743Z"
    }
   },
   "outputs": [
    {
     "name": "stdout",
     "output_type": "stream",
     "text": [
      "https://m.weibo.cn/api/container/getIndex?type=uid&value=7198559139&containerid=1076037198559139\n",
      "2\n",
      "https://m.weibo.cn/api/container/getIndex?type=uid&value=7198559139&containerid=1076037198559139&page=1\n",
      "2\n",
      "https://m.weibo.cn/api/container/getIndex?type=uid&value=7198559139&containerid=1076037198559139&page=2\n",
      "3\n",
      "https://m.weibo.cn/api/container/getIndex?type=uid&value=7198559139&containerid=1076037198559139&page=3\n",
      "4\n",
      "https://m.weibo.cn/api/container/getIndex?type=uid&value=7198559139&containerid=1076037198559139&page=4\n",
      "5\n",
      "https://m.weibo.cn/api/container/getIndex?type=uid&value=7198559139&containerid=1076037198559139&page=5\n",
      "6\n",
      "https://m.weibo.cn/api/container/getIndex?type=uid&value=7198559139&containerid=1076037198559139&page=6\n",
      "7\n",
      "https://m.weibo.cn/api/container/getIndex?type=uid&value=7198559139&containerid=1076037198559139&page=7\n",
      "8\n",
      "https://m.weibo.cn/api/container/getIndex?type=uid&value=7198559139&containerid=1076037198559139&page=8\n",
      "9\n",
      "https://m.weibo.cn/api/container/getIndex?type=uid&value=7198559139&containerid=1076037198559139&page=9\n",
      "10\n"
     ]
    }
   ],
   "source": [
    "import requests\n",
    "from urllib.parse import urlencode\n",
    "from pyquery import PyQuery as pq\n",
    "base_url='https://m.weibo.cn/api/container/getIndex?'\n",
    "headers={\n",
    "    'Host':'m.weibo.cn/',\n",
    "    'User-Agent':'Mozilla/5.0 (Windows NT 10.0; Win64; x64) AppleWebKit/537.36 (KHTML, like Gecko) Chrome/96.0.4664.93 Safari/537.36',\n",
    "    'X-Requested-With':'XMLHttpRequest',\n",
    "}\n",
    "\n",
    "def get_one_page(page):\n",
    "    params={\n",
    "        'type':'uid',\n",
    "        #这两个数字在https://m.weibo.cn/u/7198559139?uid=7198559139&luicode=10000011&lfid=100103type%3D1%26q%3D%E4%B8%83%E6%B5%B7里找\n",
    "        #containerid在network-最大的xhr文件-url里面\n",
    "        'value':'7198559139',\n",
    "        'containerid':'1076037198559139'\n",
    "    }\n",
    "    if page!=0:\n",
    "        params['page']=page\n",
    "    url=base_url+urlencode(params)\n",
    "    print(url)\n",
    "    try:\n",
    "        response=requests.get(url)\n",
    "        if response.status_code==200:\n",
    "            return response.json()\n",
    "    except requests.ConnectionError as e:\n",
    "        print(e.args)\n",
    "\n",
    "def parse_page(json):\n",
    "    global since_id\n",
    "    print(since_id)\n",
    "    if json:\n",
    "        items=json.get('data').get('cards')\n",
    "        for item in items:\n",
    "            item=item.get('mblog')\n",
    "            weibo={}\n",
    "            weibo['id']=item.get('id')\n",
    "            weibo['text']=pq(item.get('text')).text()\n",
    "            weibo['attitudes']=item.get('attitudes_count')\n",
    "            weibo['comments']=item.get('comments_count')\n",
    "            weibo['reposts']=item.get('reposts_count')\n",
    "            yield weibo\n",
    "\n",
    "#并不需要cardlistInfo，只需要page\n",
    "with open('nanami.txt','w',encoding='utf-8')as f:\n",
    "    for page in range(1,100):\n",
    "        json=get_one_page(page)\n",
    "        since_id=json.get('data').get('cardlistInfo').get('page')\n",
    "        results=parse_page(json)\n",
    "        for result in results:\n",
    "            f.write(str(result))\n",
    "            f.write('\\n')"
   ]
  },
  {
   "cell_type": "code",
   "execution_count": 42,
   "id": "similar-affiliate",
   "metadata": {
    "ExecuteTime": {
     "end_time": "2021-12-09T12:01:48.993036Z",
     "start_time": "2021-12-09T12:01:48.853261Z"
    }
   },
   "outputs": [
    {
     "name": "stdout",
     "output_type": "stream",
     "text": [
      "<!DOCTYPE html><html lang=\"zh-CN\"><head><meta charset=\"UTF-8\"><script src=\"https://lf3-search.searchpstatp.com/obj/unpkg/byted-ucenter/ttwid-js/3.0.1/dist/index.umd.production.js\"></script></head>\n",
      "<body>\n",
      "<script>\n",
      "    var ttwidInstance = null;\n",
      "    var retryTime = 0;\n",
      "    var maxRetryTime = 2;\n",
      "    var tag = 'wid_ct';\n",
      "    function end() {\n",
      "        if (location.search.match(/__tmpdruidtestwid=1/)) {\n",
      "            return;\n",
      "        }\n",
      "        location.href = location.origin + location.pathname + '?' + tag + '=' + Date.now() + (location.search ? '&' + location.search.slice(1) : '');\n",
      "    }\n",
      "    function init() {\n",
      "        if (!TTWidInstance) {\n",
      "            return end();\n",
      "        }\n",
      "        if (!ttwidInstance) {\n",
      "            var config = {\"aid\":4916,\"service\":\"so.toutiao.com\",\"unionHost\":\"https://ttwid.bytedance.com\",\"union\":true,\"needFid\":false};\n",
      "            config.service = location.host;\n",
      "            ttwidInstance = new TTWidInstance(config);\n",
      "        }\n",
      "        ttwidInstance.registerUnionWebId({}, function (err, res) {\n",
      "            if (err || !res || res.status_code !== 0) {\n",
      "                if (retryTime < maxRetryTime) {\n",
      "                    retryTime++;\n",
      "                    return init();\n",
      "                }\n",
      "            }\n",
      "            end();\n",
      "        });\n",
      "    }\n",
      "    try {\n",
      "        init();\n",
      "    } catch (e) {\n",
      "        console.error(e);\n",
      "        end();\n",
      "    }\n",
      "</script>\n",
      "</body></html>\n",
      "\n"
     ]
    }
   ],
   "source": [
    "#解析内容\n",
    "headers={\n",
    "    'Host':'so.toutiao.com/',\n",
    "    'User-Agent':'Mozilla/5.0 (Windows NT 10.0; Win64; x64) AppleWebKit/537.36 (KHTML, like Gecko) Chrome/96.0.4664.93 Safari/537.36',\n",
    "}\n",
    "url='https://so.toutiao.com/search?keyword=%E4%B8%83%E6%B5%B7nanami&pd=synthesis&source=input&dvpf=pc&aid=4916&page_num=0'\n",
    "r=requests.get(url)\n",
    "print(r.text)"
   ]
  },
  {
   "cell_type": "code",
   "execution_count": null,
   "id": "gorgeous-fundamentals",
   "metadata": {},
   "outputs": [],
   "source": [
    "#渲染网页"
   ]
  }
 ],
 "metadata": {
  "kernelspec": {
   "display_name": "Python [conda env:ml] *",
   "language": "python",
   "name": "conda-env-ml-py"
  },
  "language_info": {
   "codemirror_mode": {
    "name": "ipython",
    "version": 3
   },
   "file_extension": ".py",
   "mimetype": "text/x-python",
   "name": "python",
   "nbconvert_exporter": "python",
   "pygments_lexer": "ipython3",
   "version": "3.7.10"
  }
 },
 "nbformat": 4,
 "nbformat_minor": 5
}
