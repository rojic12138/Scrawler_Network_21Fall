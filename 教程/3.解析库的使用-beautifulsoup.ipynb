{
 "cells": [
  {
   "cell_type": "markdown",
   "id": "faced-young",
   "metadata": {},
   "source": [
    "# 解析库的使用-Beautiful Soup\n",
    "\n",
    "对于网页的节点来说，它可以定义id 、class 或其他属性。而且节点之间还有层次关系，在网页中可以通过XPath 或css 选择器来定位一个或多个节点。解析库可以帮助提取某个节点。常用解析库有lxml,Beautiful Soup 和pyquery三种，这节讲解Beautiful Soup解析库。"
   ]
  },
  {
   "cell_type": "markdown",
   "id": "square-canadian",
   "metadata": {},
   "source": [
    "BS自动将输入文档转换为Unicode编码，输出文档转换为UTF-8编码。支持解析html、xml。\n"
   ]
  },
  {
   "cell_type": "code",
   "execution_count": 44,
   "id": "virgin-award",
   "metadata": {
    "ExecuteTime": {
     "end_time": "2021-12-05T10:58:15.107949Z",
     "start_time": "2021-12-05T10:58:15.097943Z"
    },
    "scrolled": true
   },
   "outputs": [
    {
     "name": "stdout",
     "output_type": "stream",
     "text": [
      "<html>\n",
      " <head>\n",
      "  <title>\n",
      "   我的第一个 HTML 页面\n",
      "  </title>\n",
      " </head>\n",
      " <body>\n",
      "  <p>\n",
      "   body 元素的内容会显示在浏览器中。\n",
      "  </p>\n",
      "  <p>\n",
      "   title 元素的内容会显示在浏览器的标题栏中。\n",
      "  </p>\n",
      " </body>\n",
      "</html>\n",
      "<title>我的第一个 HTML 页面</title>\n",
      "<class 'bs4.element.Tag'>\n",
      "title\n",
      "我的第一个 HTML 页面\n",
      "body 元素的内容会显示在浏览器中。\n"
     ]
    }
   ],
   "source": [
    "#代码来自https://www.w3school.com.cn/tiy/t.asp?f=eg_html_basic\n",
    "#注意，这段代码的body和html都没有闭合，而且换行不规范\n",
    "html='''\n",
    "<html>\n",
    "\n",
    "<head>\n",
    "<title>我的第一个 HTML 页面</title>\n",
    "</head>\n",
    "\n",
    "<body>\n",
    "<p>body 元素的内容会显示在浏览器中。</p>\n",
    "<p>title 元素的内容会显示在浏览器的标题栏中。</p>\n",
    "'''\n",
    "from bs4 import BeautifulSoup\n",
    "soup=BeautifulSoup(html,'html')#指定字符串，解析器类型。自动补足body和html\n",
    "print(soup.prettify())#标准缩进\n",
    "\n",
    "print(soup.title)\n",
    "print(type(soup.title))#<class 'bs4.element.Tag'>\n",
    "print(soup.title.name)#提取title节点的节点名称（就是title）\n",
    "print(soup.title.string)#提取title节点的文本\n",
    "print(soup.p.string)#有多个p节点，只返回第一个p节点的文本"
   ]
  },
  {
   "cell_type": "code",
   "execution_count": 43,
   "id": "coupled-sessions",
   "metadata": {
    "ExecuteTime": {
     "end_time": "2021-12-05T10:58:05.313117Z",
     "start_time": "2021-12-05T10:58:05.308122Z"
    },
    "scrolled": true
   },
   "outputs": [
    {
     "name": "stdout",
     "output_type": "stream",
     "text": [
      "我的第一个 HTML 页面\n",
      "<class 'bs4.element.Tag'>\n",
      "['\\n', <p>body 元素的内容会显示在浏览器中。</p>, '\\n', <p>title 元素的内容会显示在浏览器的标题栏中。</p>, '\\n', <a>AAA</a>, '\\n']\n",
      "0 \n",
      "\n",
      "1 <p>body 元素的内容会显示在浏览器中。</p>\n",
      "2 \n",
      "\n",
      "3 <p>title 元素的内容会显示在浏览器的标题栏中。</p>\n",
      "4 \n",
      "\n",
      "5 <a>AAA</a>\n",
      "6 \n",
      "\n",
      "0 \n",
      "\n",
      "1 <p>body 元素的内容会显示在浏览器中。</p>\n",
      "2 body 元素的内容会显示在浏览器中。\n",
      "3 \n",
      "\n",
      "4 <p>title 元素的内容会显示在浏览器的标题栏中。</p>\n",
      "5 title 元素的内容会显示在浏览器的标题栏中。\n",
      "6 \n",
      "\n",
      "7 <a>AAA</a>\n",
      "8 AAA\n",
      "9 \n",
      "\n",
      "<html>\n",
      "<head>\n",
      "<title>我的第一个 HTML 页面</title>\n",
      "</head>\n",
      "<body>\n",
      "<p>body 元素的内容会显示在浏览器中。</p>\n",
      "<p>title 元素的内容会显示在浏览器的标题栏中。</p>\n",
      "<a>AAA</a>\n",
      "</body></html>\n",
      "\n",
      "\n"
     ]
    }
   ],
   "source": [
    "#嵌套选择\n",
    "#比如获取head节点后，获取其中的title节点：\n",
    "print(soup.head.title.string)\n",
    "print(type(soup.head.title))#仍是bs4.element.Tag类型的\n",
    "print(soup.body.contents)#子节点list\n",
    "for i,child in enumerate(soup.body.children):#子节点生成器\n",
    "    print(i,child)\n",
    "for i,child in enumerate(soup.body.descendants):#子孙节点生成器\n",
    "    print(i,child)\n",
    "print(soup.body.parent)#父节点"
   ]
  },
  {
   "cell_type": "code",
   "execution_count": 62,
   "id": "discrete-composite",
   "metadata": {
    "ExecuteTime": {
     "end_time": "2021-12-05T11:20:11.270333Z",
     "start_time": "2021-12-05T11:20:11.260360Z"
    }
   },
   "outputs": [
    {
     "name": "stdout",
     "output_type": "stream",
     "text": [
      "<html>\n",
      " <body>\n",
      "  <div class=\"panel\">\n",
      "   <div class=\"panel-heading\">\n",
      "    <h4>\n",
      "     Hello\n",
      "    </h4>\n",
      "   </div>\n",
      "   <div class=\"panel-body\">\n",
      "    <ul class=\"list\" id=\"list-1\">\n",
      "     <li class=\"element\">\n",
      "      Foo\n",
      "     </li>\n",
      "     <li class=\"element\">\n",
      "      Bar\n",
      "     </li>\n",
      "     <li class=\"element\">\n",
      "      Jay\n",
      "     </li>\n",
      "    </ul>\n",
      "    <ul class=\"list list-small\" id=\"\">\n",
      "     <li class=\"element\">\n",
      "      Foo\n",
      "     </li>\n",
      "     <li class=\"element\">\n",
      "      Bar\n",
      "     </li>\n",
      "    </ul>\n",
      "   </div>\n",
      "  </div>\n",
      " </body>\n",
      "</html>\n",
      "[<ul class=\"list\" id=\"list-1\">\n",
      "<li class=\"element\">Foo</li>\n",
      "<li class=\"element\">Bar</li>\n",
      "<li class=\"element\">Jay</li>\n",
      "</ul>, <ul class=\"list list-small\" id=\"\">\n",
      "<li class=\"element\">Foo</li>\n",
      "<li class=\"element\">Bar</li>\n",
      "</ul>]\n",
      "<class 'bs4.element.Tag'>\n",
      "Foo\n",
      "Bar\n",
      "Jay\n",
      "Foo\n",
      "Bar\n"
     ]
    }
   ],
   "source": [
    "#方法选择器 可以用名字来选\n",
    "html='''\n",
    "<div class=\"panel\">\n",
    "<div class=\"panel-heading\">\n",
    "<h4>Hello</h4>\n",
    "</div>\n",
    "<div class=\"panel-body\">\n",
    "<ul class =\"list\" id=\"list-1\">\n",
    "<li class=\"element\">Foo</li>\n",
    "<li class=\"element\">Bar</li>\n",
    "<li class=\"element\">Jay</li>\n",
    "</ul>\n",
    "<ul class=\"list list-small\" id ＝\"list-2\">\n",
    "<li class=\"element\">Foo</li>\n",
    "<li class=\"element\">Bar</li>\n",
    "</ul>\n",
    "</div >\n",
    "</div>\n",
    "'''\n",
    "soup=BeautifulSoup(html,'html')\n",
    "print(soup.prettify())\n",
    "print(soup.find_all(name='ul'))#根据tag名选节点\n",
    "print(type(soup.find_all(name='ul')[0]))#bs4.element.Tag类型\n",
    "for ul in soup.find_all(name='ul'):#嵌套查询\n",
    "    for li in ul.find_all(name='li'):\n",
    "        print(li.string)\n"
   ]
  },
  {
   "cell_type": "code",
   "execution_count": 65,
   "id": "magnetic-optimization",
   "metadata": {
    "ExecuteTime": {
     "end_time": "2021-12-05T11:22:55.324655Z",
     "start_time": "2021-12-05T11:22:55.312688Z"
    }
   },
   "outputs": [
    {
     "name": "stdout",
     "output_type": "stream",
     "text": [
      "[<ul class=\"list\" id=\"list-1\">\n",
      "<li class=\"element\">Foo</li>\n",
      "<li class=\"element\">Bar</li>\n",
      "<li class=\"element\">Jay</li>\n",
      "</ul>]\n",
      "[<div class=\"panel-heading\">\n",
      "<h4>Hello</h4>\n",
      "</div>]\n",
      "['Foo', 'Foo']\n",
      "[]\n",
      "['Foo', 'Foo']\n",
      "<class 'bs4.element.ResultSet'>\n",
      "<class 'bs4.element.Tag'>\n"
     ]
    }
   ],
   "source": [
    "#方法选择器 也可以用id，class或text匹配\n",
    "import re\n",
    "print(soup.find_all(id='list-1'))#根据id来选\n",
    "print(soup.find_all(class_='panel-heading'))#根据id来选。class是python的关键字，所以这里用class_\n",
    "print(soup.find_all(text=\"Foo\"))#完全相同才行\n",
    "print(soup.find_all(text=\"Fo\"))#匹配不到\n",
    "print(soup.find_all(text=re.compile('[A-Z]o')))#re匹配，不需要完全相同\n",
    "\n",
    "#find_all返回列表，find返回bs4.element.Tag。两者的方法都一样。后者只返回第一个，不够之后的\n",
    "print(type(soup.find_all(id='list-1')))\n",
    "print(type(soup.find(id='list-1')))"
   ]
  },
  {
   "cell_type": "markdown",
   "id": "steady-lighting",
   "metadata": {},
   "source": [
    "BS提供了CSS选择器，只需要调用select()方法，传入响应CSS选择器即可"
   ]
  },
  {
   "cell_type": "code",
   "execution_count": 88,
   "id": "attempted-lighter",
   "metadata": {
    "ExecuteTime": {
     "end_time": "2021-12-05T11:37:40.019491Z",
     "start_time": "2021-12-05T11:37:40.005492Z"
    },
    "scrolled": true
   },
   "outputs": [
    {
     "name": "stdout",
     "output_type": "stream",
     "text": [
      "[<div class=\"panel-heading\">\n",
      "<h4>Hello</h4>\n",
      "</div>]\n",
      "[<ul class=\"list\" id=\"list-1\">\n",
      "<li class=\"element\">Foo</li>\n",
      "<li class=\"element\">Bar</li>\n",
      "<li class=\"element\">Jay</li>\n",
      "</ul>]\n",
      "[<li class=\"element\">Foo</li>, <li class=\"element\">Bar</li>, <li class=\"element\">Jay</li>]\n",
      "[<li class=\"element\">Foo</li>, <li class=\"element\">Bar</li>, <li class=\"element\">Jay</li>, <li class=\"element\">Foo</li>, <li class=\"element\">Bar</li>]\n",
      "<class 'bs4.element.ResultSet'>\n",
      "---\n",
      "Foo\n"
     ]
    }
   ],
   "source": [
    "#CSS中#选择id，.选择class 都不写则选择name\n",
    "html='''\n",
    "<div class=\"panel\">\n",
    "<div class=\"panel-heading\">\n",
    "<h4>Hello</h4>\n",
    "</div>\n",
    "<div class=\"panel-body\">\n",
    "<ul class =\"list\" id=\"list-1\">\n",
    "<li class=\"element\">Foo</li>\n",
    "<li class=\"element\">Bar</li>\n",
    "<li class=\"element\">Jay</li>\n",
    "</ul>\n",
    "<ul class=\"list list-small\" id ＝\"list-2\">\n",
    "<li class=\"element\">Foo</li>\n",
    "<li class=\"element\">Bar</li>\n",
    "</ul>\n",
    "</div >\n",
    "</div>\n",
    "'''\n",
    "soup=BeautifulSoup(html,'html')\n",
    "print(soup.select('.panel-heading'))#class\n",
    "print(soup.select('#list-1'))#id\n",
    "print(soup.select('#list-1 .element'))#两个选择器间加空格表示嵌套选择。\n",
    "print(soup.select('ul li'))#name 选择所有ul中所有li\n",
    "print(type(soup.select('ul li')))\n",
    "#select返回类型和find_all一样也是list\n",
    "print('---')\n",
    "#获取属性，和前面的没区别，主要用string和name两个\n",
    "print(soup.select('.element')[0].string)"
   ]
  },
  {
   "cell_type": "markdown",
   "id": "european-diagnosis",
   "metadata": {},
   "source": [
    "pyquery更适合css选择器，之后要用再说了。"
   ]
  }
 ],
 "metadata": {
  "kernelspec": {
   "display_name": "Python [conda env:ml] *",
   "language": "python",
   "name": "conda-env-ml-py"
  },
  "language_info": {
   "codemirror_mode": {
    "name": "ipython",
    "version": 3
   },
   "file_extension": ".py",
   "mimetype": "text/x-python",
   "name": "python",
   "nbconvert_exporter": "python",
   "pygments_lexer": "ipython3",
   "version": "3.7.10"
  }
 },
 "nbformat": 4,
 "nbformat_minor": 5
}
